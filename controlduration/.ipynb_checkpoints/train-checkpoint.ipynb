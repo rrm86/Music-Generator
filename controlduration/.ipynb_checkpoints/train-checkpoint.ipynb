{
 "cells": [
  {
   "cell_type": "code",
   "execution_count": 3,
   "metadata": {},
   "outputs": [],
   "source": [
    "from music21 import *\n",
    "import numpy, collections\n",
    "from keras.models import Sequential\n",
    "from keras.layers import Dense\n",
    "from keras.layers import Dropout\n",
    "from keras.layers import LSTM\n",
    "from keras.callbacks import ModelCheckpoint\n",
    "from keras.utils import np_utils\n",
    "import pickle\n",
    "import glob\n",
    "import os.path"
   ]
  },
  {
   "cell_type": "code",
   "execution_count": 9,
   "metadata": {},
   "outputs": [],
   "source": [
    "if not os.path.exists('../data/sonata14/controlduration/sonata14-full'):\n",
    "    \n",
    "    bigdurations=['2.0','3.0','1.5','1.75','12.0','5/3','4.0','2/3','8.0','7.5','6.0','4/3',\n",
    "                  '3.5','5.0','3.25','5.0','10/3','2.25','3.75','1.25']\n",
    "\n",
    "    midledurations = ['0.5','1.0','0.75']\n",
    "\n",
    "    shortdurations=['0.25','1/3','0.0']\n",
    "\n",
    "    notes = []\n",
    "\n",
    "\n",
    "    for midfile in glob.glob('midi_source/beethoven/sonata14/*.mid'):\n",
    "\n",
    "        mid = converter.parse(midfile)\n",
    "\n",
    "        notes_to_parse = None\n",
    "\n",
    "        parts = instrument.partitionByInstrument(mid)\n",
    "\n",
    "        if parts:  # file has instrument parts\n",
    "            notes_to_parse = parts.parts[0].recurse()\n",
    "\n",
    "        else:  # file has notes in a flat structure\n",
    "            notes_to_parse = mid.flat.notes\n",
    "            print('teste')\n",
    "\n",
    "        for element in notes_to_parse:\n",
    "            if isinstance(element, note.Note):\n",
    "                note_p_d = str(element.pitch)\n",
    "                note_p_d += (\"|\")\n",
    "                if(str(element.duration.quarterLength) in bigdurations):\n",
    "                    note_p_d +='2.0'\n",
    "                elif(str(element.duration.quarterLength) in midledurations):\n",
    "                    note_p_d +='1.0'\n",
    "                elif(str(element.duration.quarterLength) in shortdurations):\n",
    "                    note_p_d +='0.25'\n",
    "                else:\n",
    "                    note_p_d +=str(element.duration.quarterLength)\n",
    "\n",
    "\n",
    "\n",
    "                notes.append(note_p_d)\n",
    "\n",
    "\n",
    "            elif isinstance(element, chord.Chord):\n",
    "                chord_pitches=[]\n",
    "\n",
    "\n",
    "                for p in element.pitches:\n",
    "                    chord_pitches.append(p.midi)\n",
    "\n",
    "\n",
    "                chord_pitches = str(chord_pitches).strip('[]')\n",
    "                chord_pitches += (\"|\")\n",
    "\n",
    "                if(str(element.duration.quarterLength) in bigdurations):\n",
    "                    chord_duration = '2.0'\n",
    "                elif(str(element.duration.quarterLength) in midledurations):\n",
    "                    chord_duration ='1.0'\n",
    "                elif(str(element.duration.quarterLength) in shortdurations):\n",
    "                    chord_duration ='0.25'\n",
    "                else:\n",
    "                    chord_duration = str(element.duration.quarterLength)\n",
    "\n",
    "                chord_duration = str(element.duration.quarterLength)\n",
    "                chord_pitches += chord_duration\n",
    "\n",
    "                chord_pitches += (\"|chord\")\n",
    "\n",
    "\n",
    "                notes.append(chord_pitches)\n",
    "\n",
    "                with open('../data/sonata14/controlduration/sonata14-full', 'wb') as path:\n",
    "                    pickle.dump(notes, path)\n",
    "\n",
    "\n",
    "\n",
    "    #print(notes)\n",
    "    print(collections.Counter(notes))"
   ]
  },
  {
   "cell_type": "code",
   "execution_count": 10,
   "metadata": {},
   "outputs": [
    {
     "name": "stdout",
     "output_type": "stream",
     "text": [
      "Total Characters: \n",
      "5715\n",
      "Total Vocab: \n",
      "927\n"
     ]
    }
   ],
   "source": [
    "with open('../data/sonata14/controlduration/sonata14-full', 'rb') as path:\n",
    "        notes = pickle.load(path)\n",
    " \n",
    "chars = sorted(list(set(notes)))\n",
    "char_to_int = dict((c, i) for i, c in enumerate(chars))\n",
    "# summarize the loaded data\n",
    "n_chars = len(notes)\n",
    "n_vocab = len(chars)\n",
    "print (\"Total Characters: \")\n",
    "print(n_chars)\n",
    "print (\"Total Vocab: \")\n",
    "print(n_vocab)"
   ]
  },
  {
   "cell_type": "code",
   "execution_count": 11,
   "metadata": {},
   "outputs": [
    {
     "name": "stdout",
     "output_type": "stream",
     "text": [
      "Total Patterns: \n",
      "5687\n"
     ]
    }
   ],
   "source": [
    "seq_length = 28\n",
    "dataX = []\n",
    "dataY = []\n",
    "for i in range(0, n_chars - seq_length, 1):\n",
    "    seq_in = notes[i:i + seq_length]\n",
    "    seq_out = notes[i + seq_length]\n",
    "    dataX.append([char_to_int[char] for char in seq_in])\n",
    "    dataY.append(char_to_int[seq_out])\n",
    "n_patterns = len(dataX)\n",
    "print( \"Total Patterns: \") \n",
    "print(n_patterns)"
   ]
  },
  {
   "cell_type": "code",
   "execution_count": 12,
   "metadata": {},
   "outputs": [],
   "source": [
    "# reshape X to be [samples, time steps, features]\n",
    "X = numpy.reshape(dataX, (n_patterns, seq_length, 1))\n",
    "# normalize\n",
    "X = X / float(n_vocab)\n",
    "# one hot encode the output variable\n",
    "y = np_utils.to_categorical(dataY)\n",
    "# define the LSTM model"
   ]
  },
  {
   "cell_type": "code",
   "execution_count": null,
   "metadata": {},
   "outputs": [],
   "source": [
    "model = Sequential()\n",
    "model.add(LSTM(512, input_shape=(X.shape[1], X.shape[2]), return_sequences=True))\n",
    "model.add(Dropout(0.3))\n",
    "model.add(LSTM(512))\n",
    "model.add(Dropout(0.3))\n",
    "model.add(Dense(y.shape[1], activation='softmax'))\n",
    "model.compile(loss='categorical_crossentropy', optimizer='adam')\n",
    "# define the checkpoint\n",
    "# define the checkpoint\n",
    "filepath=\"w{epoch:02d}-{loss:.4f}-moonlightfull.hdf5\"\n",
    "checkpoint = ModelCheckpoint(filepath, monitor='loss', verbose=1, save_best_only=True, mode='min')\n",
    "callbacks_list = [checkpoint]\n",
    "# fit the model\n",
    "model.fit(X, y, epochs=200, batch_size=84, callbacks=callbacks_list)"
   ]
  }
 ],
 "metadata": {
  "kernelspec": {
   "display_name": "Python 3",
   "language": "python",
   "name": "python3"
  },
  "language_info": {
   "codemirror_mode": {
    "name": "ipython",
    "version": 3
   },
   "file_extension": ".py",
   "mimetype": "text/x-python",
   "name": "python",
   "nbconvert_exporter": "python",
   "pygments_lexer": "ipython3",
   "version": "3.5.2"
  }
 },
 "nbformat": 4,
 "nbformat_minor": 2
}
